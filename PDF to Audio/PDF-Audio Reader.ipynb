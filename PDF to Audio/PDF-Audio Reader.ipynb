{
 "cells": [
  {
   "cell_type": "markdown",
   "metadata": {},
   "source": [
    "# PDF to Audio book"
   ]
  },
  {
   "cell_type": "code",
   "execution_count": 2,
   "metadata": {},
   "outputs": [],
   "source": [
    "## Reading the pdf file in notebook"
   ]
  },
  {
   "cell_type": "code",
   "execution_count": null,
   "metadata": {},
   "outputs": [],
   "source": [
    "import pyttsx3\n",
    "import PyPDF2\n",
    "# book is our .pdf file\n",
    "book = open('.pdf', 'rb')\n",
    "pdfReader = PyPDF2.PdfFileReader(book)\n",
    "pages = pdfReader.numPages\n",
    "\n",
    "speaker = pyttsx3.init()\n",
    "# in the for loop n = page you want to start from\n",
    "for num in range(n, pages):\n",
    "    page = pdfReader.getPage(num)\n",
    "    text = page.extractText()\n",
    "    speaker.say(text)\n",
    "    speaker.runAndWait()"
   ]
  },
  {
   "cell_type": "code",
   "execution_count": null,
   "metadata": {},
   "outputs": [],
   "source": [
    "## Saving the pdf into audio"
   ]
  },
  {
   "cell_type": "code",
   "execution_count": 1,
   "metadata": {},
   "outputs": [],
   "source": [
    "import PyPDF2\n",
    "from gtts import gTTS\n",
    "\n",
    "pdfFileObj = open(\"stox.pdf\", \"rb\")\n",
    "pdfReader = PyPDF2.PdfFileReader(pdfFileObj)\n",
    "\n",
    "mytext = \"\"\n",
    "# in the for loop in range put pages you want to read\n",
    "for pageNum in range(12,25):\n",
    "    pageObj = pdfReader.getPage(pageNum)\n",
    "\n",
    "    mytext += pageObj.extractText()\n",
    "# you can print the text before audio\n",
    "#print(mytext)\n",
    "pdfFileObj.close()\n",
    "\n",
    "tts = gTTS(text=mytext, lang='en')\n",
    "# give the name to .mp3 file as per your choice\n",
    "tts.save(\".mp3\")\n",
    "# It may take some time to run and relax"
   ]
  },
  {
   "cell_type": "markdown",
   "metadata": {},
   "source": [
    "### Your audio is ready to play"
   ]
  }
 ],
 "metadata": {
  "kernelspec": {
   "display_name": "Python 3",
   "language": "python",
   "name": "python3"
  },
  "language_info": {
   "codemirror_mode": {
    "name": "ipython",
    "version": 3
   },
   "file_extension": ".py",
   "mimetype": "text/x-python",
   "name": "python",
   "nbconvert_exporter": "python",
   "pygments_lexer": "ipython3",
   "version": "3.7.4"
  }
 },
 "nbformat": 4,
 "nbformat_minor": 2
}
