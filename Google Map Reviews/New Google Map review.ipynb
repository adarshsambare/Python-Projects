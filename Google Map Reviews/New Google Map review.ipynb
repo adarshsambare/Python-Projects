{
 "cells": [
  {
   "cell_type": "code",
   "execution_count": 1,
   "metadata": {},
   "outputs": [],
   "source": [
    "import googlemaps\n",
    "import pprint\n",
    "import time\n",
    "import os"
   ]
  },
  {
   "cell_type": "code",
   "execution_count": 2,
   "metadata": {},
   "outputs": [],
   "source": [
    "# DEFINE OUR API KEY\n",
    "API_KEY = #'GOOGLE MAP API KEY'"
   ]
  },
  {
   "cell_type": "code",
   "execution_count": 3,
   "metadata": {},
   "outputs": [],
   "source": [
    "# DEFINE OUR CLIENT \n",
    "gmaps = googlemaps.Client(key = API_KEY)"
   ]
  },
  {
   "cell_type": "code",
   "execution_count": 4,
   "metadata": {},
   "outputs": [],
   "source": [
    "# DEFINE OUR PLACE ID\n",
    "my_place_id = 'ChIJO87U12kUrjsRNiANLOxsCdo'"
   ]
  },
  {
   "cell_type": "code",
   "execution_count": 5,
   "metadata": {},
   "outputs": [],
   "source": [
    "# REVIEWS\n",
    "my_fields = ['review']"
   ]
  },
  {
   "cell_type": "code",
   "execution_count": 6,
   "metadata": {},
   "outputs": [],
   "source": [
    "# MAKE A REQUEST FOR THE DETAILS\n",
    "place_details = gmaps.place(place_id = my_place_id, \n",
    "                            fields= my_fields)"
   ]
  },
  {
   "cell_type": "code",
   "execution_count": 7,
   "metadata": {},
   "outputs": [],
   "source": [
    "def get_review_text():\n",
    "    reviews_list = place_details['result']['reviews']\n",
    "    for reviews_dict in reviews_list:\n",
    "        print(reviews_dict['text'])"
   ]
  },
  {
   "cell_type": "code",
   "execution_count": 8,
   "metadata": {},
   "outputs": [
    {
     "name": "stdout",
     "output_type": "stream",
     "text": [
      "It was an amazing experience. I had visited breakout with 2 of my friends and we had a blast here. Each game is interesting and will keep you on your toes. We had opted for \"classified\" and it was an hour full of excitement and brain storming. Would highly recommend this place for anyone looking to have a great time with friends and family.\n",
      "Amazing place to be. You will get out of the box experience at this place. I felt I was in this completely another world full of Egyptian mummies, their puzzles and their treasure. It gave me that the mummy movie kind of feeling.. Where I was a archeologist digging and searching clues with a torch in my hand for survival and long lost treasure...\n",
      "My daughter on other hand visited the enchanted forest where she was solving puzzles... Collecting treasures \n",
      "... For her it was a magical moment with magical glowing stars\n",
      "The best way to spend time or get get your team involved in a team building activity. Where each activity takes an hour. Worth the money. The only games we could play as amateurs were Murder Mystery and Kidnap.\n",
      "Both of them were good. The two staff who were in there to guide us were helpful in nature. It's good to leave your phone out and indulge in these kind of activities. \n",
      "Thanks for the management and people who were behind these kind of amazing ideas ideal for all those who spend their whole weekend sitting in front of a system.\n",
      "A very happy experience...loved playing treasure hunt .all of us had an awesome teaming with friends n cracked the mystery...\n",
      "Very nice place for corporates as well. Team building is what you can learn hand in hand....\n",
      "The suspense and thrill mesmerises with the curiosity to know what's next...\n",
      "A best place to release your stress...\n",
      "Games are all decent  but the place is not clean. The restroom is horrible. The sitting area is small and congested. Games are decent. This was my first time to such a place and hence had a lot of fun playing it. I have been told by others who have attended other such places is that they are better than this. \n",
      "\n",
      "Overall you will have fun but the place needs to be better maintained. Don't go by other reviews as the place requests you to review after the games are over.\n"
     ]
    }
   ],
   "source": [
    "get_review_text()"
   ]
  },
  {
   "cell_type": "code",
   "execution_count": null,
   "metadata": {},
   "outputs": [],
   "source": []
  }
 ],
 "metadata": {
  "kernelspec": {
   "display_name": "Python 3",
   "language": "python",
   "name": "python3"
  },
  "language_info": {
   "codemirror_mode": {
    "name": "ipython",
    "version": 3
   },
   "file_extension": ".py",
   "mimetype": "text/x-python",
   "name": "python",
   "nbconvert_exporter": "python",
   "pygments_lexer": "ipython3",
   "version": "3.7.4"
  }
 },
 "nbformat": 4,
 "nbformat_minor": 2
}
