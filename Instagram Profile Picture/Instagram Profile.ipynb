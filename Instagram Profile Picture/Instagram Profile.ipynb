{
 "cells": [
  {
   "cell_type": "markdown",
   "metadata": {},
   "source": [
    "## Hope You are doing great\n",
    "### So you wanted to download profile picture of someone\n",
    "### So let's get right on to it...\n",
    "\n",
    "### Make sure your wifi is connected\n",
    "### You can only download profile picture of Public account"
   ]
  },
  {
   "cell_type": "code",
   "execution_count": null,
   "metadata": {},
   "outputs": [],
   "source": [
    "## Installing the required library\n",
    "# pip install instaloder"
   ]
  },
  {
   "cell_type": "code",
   "execution_count": 3,
   "metadata": {},
   "outputs": [],
   "source": [
    "# Importing the required library\n",
    "import instaloader"
   ]
  },
  {
   "cell_type": "code",
   "execution_count": null,
   "metadata": {},
   "outputs": [],
   "source": [
    "# Giving mod the requrired loader\n",
    "mod = instaloader.Instaloader()\n",
    "\n",
    "# Creating a input variable a\n",
    "a = input(\"Enter The Profile Name -->\")\n",
    "\n",
    "# Downloading the profile picture\n",
    "# Can explore more there are many things you can do here\n",
    "mod.download_profile(a,profile_pic_only = True)\n",
    "\n",
    "## INPUT IS THE USER ID OF INSTAGRAM PAGE \n",
    "## THE PICTURE IS DOWNLOADED IN A NEW FOLDER"
   ]
  },
  {
   "cell_type": "markdown",
   "metadata": {},
   "source": [
    "# Hurrey you can watch the picture on your picture"
   ]
  }
 ],
 "metadata": {
  "kernelspec": {
   "display_name": "Python 3",
   "language": "python",
   "name": "python3"
  },
  "language_info": {
   "codemirror_mode": {
    "name": "ipython",
    "version": 3
   },
   "file_extension": ".py",
   "mimetype": "text/x-python",
   "name": "python",
   "nbconvert_exporter": "python",
   "pygments_lexer": "ipython3",
   "version": "3.7.4"
  }
 },
 "nbformat": 4,
 "nbformat_minor": 2
}
